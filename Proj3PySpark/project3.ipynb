{
 "cells": [
  {
   "cell_type": "markdown",
   "id": "110462f9",
   "metadata": {},
   "source": [
    "# AMS 598 Project\n",
    "Jiecheng Song"
   ]
  },
  {
   "cell_type": "code",
   "execution_count": 1,
   "id": "5ecdd60e",
   "metadata": {},
   "outputs": [],
   "source": [
    "# Loading required module\n",
    "import pandas as pd\n",
    "import numpy as np\n",
    "from pyspark.sql import SparkSession\n",
    "from pyspark.sql.functions import col, when, count, countDistinct"
   ]
  },
  {
   "cell_type": "markdown",
   "id": "359eb670",
   "metadata": {},
   "source": [
    "## Set up spark context and SparkSession"
   ]
  },
  {
   "cell_type": "code",
   "execution_count": 2,
   "id": "98450e75",
   "metadata": {},
   "outputs": [],
   "source": [
    "spark = SparkSession.builder.appName(\"AMS 598 Project 3 Linear regreesion\")\\\n",
    "           .config(\"spark.some.config.option\", \"some-value\").getOrCreate()"
   ]
  },
  {
   "cell_type": "markdown",
   "id": "07ce2f5b",
   "metadata": {},
   "source": [
    "## Load dataset"
   ]
  },
  {
   "cell_type": "markdown",
   "id": "62f86568",
   "metadata": {},
   "source": [
    "The data was cleaned in excel, replaced the comma in the 'fiProductClassDesc' variable"
   ]
  },
  {
   "cell_type": "code",
   "execution_count": 3,
   "id": "87b5aa42",
   "metadata": {},
   "outputs": [],
   "source": [
    "# read data\n",
    "train_filename = \"/Users/jiechengsong/Documents/2021 fall/AMS 598/project3/Train_project3.csv\"\n",
    "test_filename = \"/Users/jiechengsong/Documents/2021 fall/AMS 598/project3/Test_project3.csv\"\n",
    "train_data = spark.read.options(header=True, inferSchema=True).csv(train_filename)\n",
    "test_data =spark.read.options(header=True, inferSchema=True).csv(test_filename)"
   ]
  },
  {
   "cell_type": "code",
   "execution_count": 4,
   "id": "304b5a75",
   "metadata": {
    "scrolled": true
   },
   "outputs": [
    {
     "data": {
      "text/plain": [
       "['SalesID',\n",
       " 'SalePrice',\n",
       " 'MachineID',\n",
       " 'ModelID',\n",
       " 'datasource',\n",
       " 'auctioneerID',\n",
       " 'YearMade',\n",
       " 'MachineHoursCurrentMeter',\n",
       " 'UsageBand',\n",
       " 'saledate',\n",
       " 'fiModelDesc',\n",
       " 'fiBaseModel',\n",
       " 'fiSecondaryDesc',\n",
       " 'fiModelSeries',\n",
       " 'fiModelDescriptor',\n",
       " 'ProductSize',\n",
       " 'fiProductClassDesc',\n",
       " 'state',\n",
       " 'ProductGroup',\n",
       " 'ProductGroupDesc',\n",
       " 'Drive_System',\n",
       " 'Enclosure',\n",
       " 'Forks',\n",
       " 'Pad_Type',\n",
       " 'Ride_Control',\n",
       " 'Stick',\n",
       " 'Transmission',\n",
       " 'Turbocharged',\n",
       " 'Blade_Extension',\n",
       " 'Blade_Width',\n",
       " 'Enclosure_Type',\n",
       " 'Engine_Horsepower',\n",
       " 'Hydraulics',\n",
       " 'Pushblock',\n",
       " 'Ripper',\n",
       " 'Scarifier',\n",
       " 'Tip_Control',\n",
       " 'Tire_Size',\n",
       " 'Coupler',\n",
       " 'Coupler_System',\n",
       " 'Grouser_Tracks',\n",
       " 'Hydraulics_Flow',\n",
       " 'Track_Type',\n",
       " 'Undercarriage_Pad_Width',\n",
       " 'Stick_Length',\n",
       " 'Thumb',\n",
       " 'Pattern_Changer',\n",
       " 'Grouser_Type',\n",
       " 'Backhoe_Mounting',\n",
       " 'Blade_Type',\n",
       " 'Travel_Controls',\n",
       " 'Differential_Type',\n",
       " 'Steering_Controls']"
      ]
     },
     "execution_count": 4,
     "metadata": {},
     "output_type": "execute_result"
    }
   ],
   "source": [
    "train_data.columns"
   ]
  },
  {
   "cell_type": "code",
   "execution_count": 33,
   "id": "6430305c",
   "metadata": {},
   "outputs": [
    {
     "data": {
      "text/plain": [
       "53"
      ]
     },
     "execution_count": 33,
     "metadata": {},
     "output_type": "execute_result"
    }
   ],
   "source": [
    "len(train_data.columns)"
   ]
  },
  {
   "cell_type": "code",
   "execution_count": 34,
   "id": "b7c6750c",
   "metadata": {},
   "outputs": [
    {
     "data": {
      "text/plain": [
       "300000"
      ]
     },
     "execution_count": 34,
     "metadata": {},
     "output_type": "execute_result"
    }
   ],
   "source": [
    "train_data.count()"
   ]
  },
  {
   "cell_type": "code",
   "execution_count": 5,
   "id": "10633f81",
   "metadata": {
    "scrolled": true
   },
   "outputs": [
    {
     "data": {
      "text/plain": [
       "['SalesID',\n",
       " 'MachineID',\n",
       " 'ModelID',\n",
       " 'datasource',\n",
       " 'auctioneerID',\n",
       " 'YearMade',\n",
       " 'MachineHoursCurrentMeter',\n",
       " 'UsageBand',\n",
       " 'saledate',\n",
       " 'fiModelDesc',\n",
       " 'fiBaseModel',\n",
       " 'fiSecondaryDesc',\n",
       " 'fiModelSeries',\n",
       " 'fiModelDescriptor',\n",
       " 'ProductSize',\n",
       " 'fiProductClassDesc',\n",
       " 'state',\n",
       " 'ProductGroup',\n",
       " 'ProductGroupDesc',\n",
       " 'Drive_System',\n",
       " 'Enclosure',\n",
       " 'Forks',\n",
       " 'Pad_Type',\n",
       " 'Ride_Control',\n",
       " 'Stick',\n",
       " 'Transmission',\n",
       " 'Turbocharged',\n",
       " 'Blade_Extension',\n",
       " 'Blade_Width',\n",
       " 'Enclosure_Type',\n",
       " 'Engine_Horsepower',\n",
       " 'Hydraulics',\n",
       " 'Pushblock',\n",
       " 'Ripper',\n",
       " 'Scarifier',\n",
       " 'Tip_Control',\n",
       " 'Tire_Size',\n",
       " 'Coupler',\n",
       " 'Coupler_System',\n",
       " 'Grouser_Tracks',\n",
       " 'Hydraulics_Flow',\n",
       " 'Track_Type',\n",
       " 'Undercarriage_Pad_Width',\n",
       " 'Stick_Length',\n",
       " 'Thumb',\n",
       " 'Pattern_Changer',\n",
       " 'Grouser_Type',\n",
       " 'Backhoe_Mounting',\n",
       " 'Blade_Type',\n",
       " 'Travel_Controls',\n",
       " 'Differential_Type',\n",
       " 'Steering_Controls']"
      ]
     },
     "execution_count": 5,
     "metadata": {},
     "output_type": "execute_result"
    }
   ],
   "source": [
    "test_data.columns"
   ]
  },
  {
   "cell_type": "code",
   "execution_count": 35,
   "id": "b1b4f18e",
   "metadata": {},
   "outputs": [
    {
     "data": {
      "text/plain": [
       "52"
      ]
     },
     "execution_count": 35,
     "metadata": {},
     "output_type": "execute_result"
    }
   ],
   "source": [
    "len(test_data.columns)"
   ]
  },
  {
   "cell_type": "code",
   "execution_count": 36,
   "id": "63913b8b",
   "metadata": {},
   "outputs": [
    {
     "data": {
      "text/plain": [
       "101125"
      ]
     },
     "execution_count": 36,
     "metadata": {},
     "output_type": "execute_result"
    }
   ],
   "source": [
    "test_data.count()"
   ]
  },
  {
   "cell_type": "markdown",
   "id": "6af4657c",
   "metadata": {},
   "source": [
    "## Combine regressors for preprocessing (for generate dummy var)"
   ]
  },
  {
   "cell_type": "code",
   "execution_count": 6,
   "id": "ec80045a",
   "metadata": {},
   "outputs": [],
   "source": [
    "df = train_data.drop('SalePrice').union(test_data)"
   ]
  },
  {
   "cell_type": "markdown",
   "id": "ed64d28e",
   "metadata": {},
   "source": [
    "## glimpse of data"
   ]
  },
  {
   "cell_type": "code",
   "execution_count": 7,
   "id": "f6a680be",
   "metadata": {
    "scrolled": true
   },
   "outputs": [
    {
     "name": "stdout",
     "output_type": "stream",
     "text": [
      "+-------+---------+-------+----------+------------+--------+------------------------+---------+---------------+-----------+-----------+---------------+-------------+-----------------+-----------+--------------------+--------------+------------+------------------+------------+----------+-------------------+--------+-------------------+-----+------------+------------+---------------+-----------+--------------+-----------------+----------+---------+------+---------+-----------+-------------------+-------------------+-------------------+-------------------+---------------+----------+-----------------------+------------+-----+---------------+------------+----------------+----------+---------------+-----------------+-----------------+\n",
      "|SalesID|MachineID|ModelID|datasource|auctioneerID|YearMade|MachineHoursCurrentMeter|UsageBand|       saledate|fiModelDesc|fiBaseModel|fiSecondaryDesc|fiModelSeries|fiModelDescriptor|ProductSize|  fiProductClassDesc|         state|ProductGroup|  ProductGroupDesc|Drive_System| Enclosure|              Forks|Pad_Type|       Ride_Control|Stick|Transmission|Turbocharged|Blade_Extension|Blade_Width|Enclosure_Type|Engine_Horsepower|Hydraulics|Pushblock|Ripper|Scarifier|Tip_Control|          Tire_Size|            Coupler|     Coupler_System|     Grouser_Tracks|Hydraulics_Flow|Track_Type|Undercarriage_Pad_Width|Stick_Length|Thumb|Pattern_Changer|Grouser_Type|Backhoe_Mounting|Blade_Type|Travel_Controls|Differential_Type|Steering_Controls|\n",
      "+-------+---------+-------+----------+------------+--------+------------------------+---------+---------------+-----------+-----------+---------------+-------------+-----------------+-----------+--------------------+--------------+------------+------------------+------------+----------+-------------------+--------+-------------------+-----+------------+------------+---------------+-----------+--------------+-----------------+----------+---------+------+---------+-----------+-------------------+-------------------+-------------------+-------------------+---------------+----------+-----------------------+------------+-----+---------------+------------+----------------+----------+---------------+-----------------+-----------------+\n",
      "|1139246|   999089|   3157|       121|           3|    2004|                      68|      Low|11/16/2006 0:00|       521D|        521|              D|         null|             null|       null|Wheel Loader - 11...|       Alabama|          WL|      Wheel Loader|        null|EROPS w AC|None or Unspecified|    null|None or Unspecified| null|        null|        null|           null|       null|          null|             null|   2 Valve|     null|  null|     null|       null|None or Unspecified|None or Unspecified|               null|               null|           null|      null|                   null|        null| null|           null|        null|            null|      null|           null|         Standard|     Conventional|\n",
      "|1139248|   117657|     77|       121|           3|    1996|                    4640|      Low| 3/26/2004 0:00|     950FII|        950|              F|           II|             null|     Medium|Wheel Loader - 15...|North Carolina|          WL|      Wheel Loader|        null|EROPS w AC|None or Unspecified|    null|None or Unspecified| null|        null|        null|           null|       null|          null|             null|   2 Valve|     null|  null|     null|       null|               23.5|None or Unspecified|               null|               null|           null|      null|                   null|        null| null|           null|        null|            null|      null|           null|         Standard|     Conventional|\n",
      "|1139249|   434808|   7009|       121|           3|    2001|                    2838|     High| 2/26/2004 0:00|        226|        226|           null|         null|             null|       null|Skid Steer Loader...|      New York|         SSL|Skid Steer Loaders|        null|     OROPS|None or Unspecified|    null|               null| null|        null|        null|           null|       null|          null|             null| Auxiliary|     null|  null|     null|       null|               null|None or Unspecified|None or Unspecified|None or Unspecified|       Standard|      null|                   null|        null| null|           null|        null|            null|      null|           null|             null|             null|\n",
      "|1139251|  1026470|    332|       121|           3|    2001|                    3486|     High| 5/19/2011 0:00|   PC120-6E|      PC120|           null|          -6E|             null|      Small|Hydraulic Excavat...|         Texas|         TEX|  Track Excavators|        null|EROPS w AC|               null|    null|               null| null|        null|        null|           null|       null|          null|             null|   2 Valve|     null|  null|     null|       null|               null|None or Unspecified|               null|               null|           null|      null|                   null|        null| null|           null|        null|            null|      null|           null|             null|             null|\n",
      "|1139253|  1057373|  17311|       121|           3|    2007|                     722|   Medium| 7/23/2009 0:00|       S175|       S175|           null|         null|             null|       null|Skid Steer Loader...|      New York|         SSL|Skid Steer Loaders|        null|     EROPS|None or Unspecified|    null|               null| null|        null|        null|           null|       null|          null|             null| Auxiliary|     null|  null|     null|       null|               null|None or Unspecified|None or Unspecified|None or Unspecified|       Standard|      null|                   null|        null| null|           null|        null|            null|      null|           null|             null|             null|\n",
      "+-------+---------+-------+----------+------------+--------+------------------------+---------+---------------+-----------+-----------+---------------+-------------+-----------------+-----------+--------------------+--------------+------------+------------------+------------+----------+-------------------+--------+-------------------+-----+------------+------------+---------------+-----------+--------------+-----------------+----------+---------+------+---------+-----------+-------------------+-------------------+-------------------+-------------------+---------------+----------+-----------------------+------------+-----+---------------+------------+----------------+----------+---------------+-----------------+-----------------+\n",
      "only showing top 5 rows\n",
      "\n",
      "root\n",
      " |-- SalesID: integer (nullable = true)\n",
      " |-- MachineID: integer (nullable = true)\n",
      " |-- ModelID: integer (nullable = true)\n",
      " |-- datasource: integer (nullable = true)\n",
      " |-- auctioneerID: string (nullable = true)\n",
      " |-- YearMade: integer (nullable = true)\n",
      " |-- MachineHoursCurrentMeter: string (nullable = true)\n",
      " |-- UsageBand: string (nullable = true)\n",
      " |-- saledate: string (nullable = true)\n",
      " |-- fiModelDesc: string (nullable = true)\n",
      " |-- fiBaseModel: string (nullable = true)\n",
      " |-- fiSecondaryDesc: string (nullable = true)\n",
      " |-- fiModelSeries: string (nullable = true)\n",
      " |-- fiModelDescriptor: string (nullable = true)\n",
      " |-- ProductSize: string (nullable = true)\n",
      " |-- fiProductClassDesc: string (nullable = true)\n",
      " |-- state: string (nullable = true)\n",
      " |-- ProductGroup: string (nullable = true)\n",
      " |-- ProductGroupDesc: string (nullable = true)\n",
      " |-- Drive_System: string (nullable = true)\n",
      " |-- Enclosure: string (nullable = true)\n",
      " |-- Forks: string (nullable = true)\n",
      " |-- Pad_Type: string (nullable = true)\n",
      " |-- Ride_Control: string (nullable = true)\n",
      " |-- Stick: string (nullable = true)\n",
      " |-- Transmission: string (nullable = true)\n",
      " |-- Turbocharged: string (nullable = true)\n",
      " |-- Blade_Extension: string (nullable = true)\n",
      " |-- Blade_Width: string (nullable = true)\n",
      " |-- Enclosure_Type: string (nullable = true)\n",
      " |-- Engine_Horsepower: string (nullable = true)\n",
      " |-- Hydraulics: string (nullable = true)\n",
      " |-- Pushblock: string (nullable = true)\n",
      " |-- Ripper: string (nullable = true)\n",
      " |-- Scarifier: string (nullable = true)\n",
      " |-- Tip_Control: string (nullable = true)\n",
      " |-- Tire_Size: string (nullable = true)\n",
      " |-- Coupler: string (nullable = true)\n",
      " |-- Coupler_System: string (nullable = true)\n",
      " |-- Grouser_Tracks: string (nullable = true)\n",
      " |-- Hydraulics_Flow: string (nullable = true)\n",
      " |-- Track_Type: string (nullable = true)\n",
      " |-- Undercarriage_Pad_Width: string (nullable = true)\n",
      " |-- Stick_Length: string (nullable = true)\n",
      " |-- Thumb: string (nullable = true)\n",
      " |-- Pattern_Changer: string (nullable = true)\n",
      " |-- Grouser_Type: string (nullable = true)\n",
      " |-- Backhoe_Mounting: string (nullable = true)\n",
      " |-- Blade_Type: string (nullable = true)\n",
      " |-- Travel_Controls: string (nullable = true)\n",
      " |-- Differential_Type: string (nullable = true)\n",
      " |-- Steering_Controls: string (nullable = true)\n",
      "\n"
     ]
    }
   ],
   "source": [
    "# show first 5 line and format of data\n",
    "df.show(5, True)\n",
    "df.printSchema()"
   ]
  },
  {
   "cell_type": "code",
   "execution_count": 8,
   "id": "7f0610f8",
   "metadata": {},
   "outputs": [
    {
     "data": {
      "text/plain": [
       "401125"
      ]
     },
     "execution_count": 8,
     "metadata": {},
     "output_type": "execute_result"
    }
   ],
   "source": [
    "# numer of samples\n",
    "df.count()"
   ]
  },
  {
   "cell_type": "code",
   "execution_count": 9,
   "id": "25302338",
   "metadata": {},
   "outputs": [
    {
     "name": "stdout",
     "output_type": "stream",
     "text": [
      "+-------+---------+-------+----------+------------+--------+------------------------+---------+--------+-----------+-----------+---------------+-------------+-----------------+-----------+------------------+-----+------------+----------------+------------+---------+-----+--------+------------+-----+------------+------------+---------------+-----------+--------------+-----------------+----------+---------+------+---------+-----------+---------+-------+--------------+--------------+---------------+----------+-----------------------+------------+-----+---------------+------------+----------------+----------+---------------+-----------------+-----------------+\n",
      "|SalesID|MachineID|ModelID|datasource|auctioneerID|YearMade|MachineHoursCurrentMeter|UsageBand|saledate|fiModelDesc|fiBaseModel|fiSecondaryDesc|fiModelSeries|fiModelDescriptor|ProductSize|fiProductClassDesc|state|ProductGroup|ProductGroupDesc|Drive_System|Enclosure|Forks|Pad_Type|Ride_Control|Stick|Transmission|Turbocharged|Blade_Extension|Blade_Width|Enclosure_Type|Engine_Horsepower|Hydraulics|Pushblock|Ripper|Scarifier|Tip_Control|Tire_Size|Coupler|Coupler_System|Grouser_Tracks|Hydraulics_Flow|Track_Type|Undercarriage_Pad_Width|Stick_Length|Thumb|Pattern_Changer|Grouser_Type|Backhoe_Mounting|Blade_Type|Travel_Controls|Differential_Type|Steering_Controls|\n",
      "+-------+---------+-------+----------+------------+--------+------------------------+---------+--------+-----------+-----------+---------------+-------------+-----------------+-----------+------------------+-----+------------+----------------+------------+---------+-----+--------+------------+-----+------------+------------+---------------+-----------+--------------+-----------------+----------+---------+------+---------+-----------+---------+-------+--------------+--------------+---------------+----------+-----------------------+------------+-----+---------------+------------+----------------+----------+---------------+-----------------+-----------------+\n",
      "| 401125|   341027|   5218|         5|          31|      72|                   15153|        3|    3919|       4999|       1950|            175|          122|              139|          6|                74|   53|           6|               6|           4|        6|    2|       4|           3|    2|           8|           2|              2|          6|             3|                2|        12|        2|     4|        2|          3|       17|      3|             2|             2|              3|         2|                     19|          29|    3|              3|           3|               2|        10|              7|                4|                5|\n",
      "+-------+---------+-------+----------+------------+--------+------------------------+---------+--------+-----------+-----------+---------------+-------------+-----------------+-----------+------------------+-----+------------+----------------+------------+---------+-----+--------+------------+-----+------------+------------+---------------+-----------+--------------+-----------------+----------+---------+------+---------+-----------+---------+-------+--------------+--------------+---------------+----------+-----------------------+------------+-----+---------------+------------+----------------+----------+---------------+-----------------+-----------------+\n",
      "\n"
     ]
    }
   ],
   "source": [
    "# count distinct value\n",
    "df.select([countDistinct(c).alias(c) for c in df.columns]).show()"
   ]
  },
  {
   "cell_type": "code",
   "execution_count": 10,
   "id": "d63cdcbe",
   "metadata": {},
   "outputs": [
    {
     "name": "stdout",
     "output_type": "stream",
     "text": [
      "+-------+---------+-------+----------+------------+--------+------------------------+---------+--------+-----------+-----------+---------------+-------------+-----------------+-----------+------------------+------+------------+----------------+------------+---------+------+--------+------------+-----+------------+------------+---------------+-----------+--------------+-----------------+----------+---------+------+---------+-----------+---------+-------+--------------+--------------+---------------+----------+-----------------------+------------+-----+---------------+------------+----------------+----------+---------------+-----------------+-----------------+\n",
      "|SalesID|MachineID|ModelID|datasource|auctioneerID|YearMade|MachineHoursCurrentMeter|UsageBand|saledate|fiModelDesc|fiBaseModel|fiSecondaryDesc|fiModelSeries|fiModelDescriptor|ProductSize|fiProductClassDesc| state|ProductGroup|ProductGroupDesc|Drive_System|Enclosure| Forks|Pad_Type|Ride_Control|Stick|Transmission|Turbocharged|Blade_Extension|Blade_Width|Enclosure_Type|Engine_Horsepower|Hydraulics|Pushblock|Ripper|Scarifier|Tip_Control|Tire_Size|Coupler|Coupler_System|Grouser_Tracks|Hydraulics_Flow|Track_Type|Undercarriage_Pad_Width|Stick_Length|Thumb|Pattern_Changer|Grouser_Type|Backhoe_Mounting|Blade_Type|Travel_Controls|Differential_Type|Steering_Controls|\n",
      "+-------+---------+-------+----------+------------+--------+------------------------+---------+--------+-----------+-----------+---------------+-------------+-----------------+-----------+------------------+------+------------+----------------+------------+---------+------+--------+------------+-----+------------+------------+---------------+-----------+--------------+-----------------+----------+---------+------+---------+-----------+---------+-------+--------------+--------------+---------------+----------+-----------------------+------------+-----+---------------+------------+----------------+----------+---------------+-----------------+-----------------+\n",
      "| 401125|   401125| 401125|    401125|      401125|  401125|                  401125|    69639|  401125|     401125|     401125|         263934|        56908|            71919|     190350|            401125|401125|      401125|          401125|      104361|   400800|192077|   79134|      148606|79134|      183230|       79134|          25219|      25219|         25219|            25219|    320570|    25219|104137|    25230|      25219|    94718| 213952|         43458|         43362|          43362|     99153|                  99872|       99218|99288|          99218|       99153|           78672|     79833|          79834|            69411|            69369|\n",
      "+-------+---------+-------+----------+------------+--------+------------------------+---------+--------+-----------+-----------+---------------+-------------+-----------------+-----------+------------------+------+------------+----------------+------------+---------+------+--------+------------+-----+------------+------------+---------------+-----------+--------------+-----------------+----------+---------+------+---------+-----------+---------+-------+--------------+--------------+---------------+----------+-----------------------+------------+-----+---------------+------------+----------------+----------+---------------+-----------------+-----------------+\n",
      "\n"
     ]
    }
   ],
   "source": [
    "# show not null value count\n",
    "df.select([count(when(col(c).isNotNull() , c)).alias(c) for c in df.columns]).show()"
   ]
  },
  {
   "cell_type": "markdown",
   "id": "33c5eb37",
   "metadata": {},
   "source": [
    "There are 341027 Machine ID in 401125 samples, so we shouldn't consider Machine ID as features, MachineHoursCurrentMeter is numeric and the other can be treated as categorical, the sale date can be sepearated as year and month then treat as categorical, which may be better, remove track_type, since it is all null."
   ]
  },
  {
   "cell_type": "markdown",
   "id": "47e68316",
   "metadata": {},
   "source": [
    "## deal with saledate"
   ]
  },
  {
   "cell_type": "code",
   "execution_count": 11,
   "id": "04b940f4",
   "metadata": {},
   "outputs": [],
   "source": [
    "from pyspark.sql.functions import substring, length\n",
    "from pyspark.sql.functions import udf\n",
    "\n",
    "udf1 = udf(lambda x:x[0:x.index('/')])\n",
    "udf2 = udf(lambda x:x[-9:-4])\n",
    "df = df.withColumn(\"month\", udf1(\"saledate\"))\n",
    "df = df.withColumn(\"year\", udf2(\"saledate\"))"
   ]
  },
  {
   "cell_type": "markdown",
   "id": "9d82a84f",
   "metadata": {},
   "source": [
    "## remove unused variables and simple imputation"
   ]
  },
  {
   "cell_type": "code",
   "execution_count": 12,
   "id": "a4ff0ed7",
   "metadata": {},
   "outputs": [],
   "source": [
    "df = df.drop('saledate', 'machineID')"
   ]
  },
  {
   "cell_type": "code",
   "execution_count": 13,
   "id": "a4ba5cc3",
   "metadata": {},
   "outputs": [],
   "source": [
    "df = df.replace('NA', '0', subset=['MachineHoursCurrentMeter'])\n",
    "df = df.fillna('0', subset=['MachineHoursCurrentMeter'])"
   ]
  },
  {
   "cell_type": "code",
   "execution_count": 14,
   "id": "da057e12",
   "metadata": {},
   "outputs": [],
   "source": [
    "from pyspark.sql.types import DoubleType\n",
    "df = df.withColumn(\"MachineHoursCurrentMeter\", df[\"MachineHoursCurrentMeter\"].cast(DoubleType()))"
   ]
  },
  {
   "cell_type": "code",
   "execution_count": 15,
   "id": "a9d78965",
   "metadata": {},
   "outputs": [],
   "source": [
    "from pyspark.sql.types import StringType\n",
    "for i in df.columns[1:5] + df.columns[6:]:\n",
    "    df = df.fillna('NA', subset = i)\n",
    "    df = df.withColumn(i, df[i].cast(StringType()))"
   ]
  },
  {
   "cell_type": "code",
   "execution_count": 16,
   "id": "dbbac144",
   "metadata": {},
   "outputs": [
    {
     "name": "stdout",
     "output_type": "stream",
     "text": [
      "+-------+-------+----------+------------+--------+------------------------+---------+-----------+-----------+---------------+-------------+-----------------+-----------+------------------+------+------------+----------------+------------+---------+------+--------+------------+------+------------+------------+---------------+-----------+--------------+-----------------+----------+---------+------+---------+-----------+---------+-------+--------------+--------------+---------------+----------+-----------------------+------------+------+---------------+------------+----------------+----------+---------------+-----------------+-----------------+------+------+\n",
      "|SalesID|ModelID|datasource|auctioneerID|YearMade|MachineHoursCurrentMeter|UsageBand|fiModelDesc|fiBaseModel|fiSecondaryDesc|fiModelSeries|fiModelDescriptor|ProductSize|fiProductClassDesc| state|ProductGroup|ProductGroupDesc|Drive_System|Enclosure| Forks|Pad_Type|Ride_Control| Stick|Transmission|Turbocharged|Blade_Extension|Blade_Width|Enclosure_Type|Engine_Horsepower|Hydraulics|Pushblock|Ripper|Scarifier|Tip_Control|Tire_Size|Coupler|Coupler_System|Grouser_Tracks|Hydraulics_Flow|Track_Type|Undercarriage_Pad_Width|Stick_Length| Thumb|Pattern_Changer|Grouser_Type|Backhoe_Mounting|Blade_Type|Travel_Controls|Differential_Type|Steering_Controls| month|  year|\n",
      "+-------+-------+----------+------------+--------+------------------------+---------+-----------+-----------+---------------+-------------+-----------------+-----------+------------------+------+------------+----------------+------------+---------+------+--------+------------+------+------------+------------+---------------+-----------+--------------+-----------------+----------+---------+------+---------+-----------+---------+-------+--------------+--------------+---------------+----------+-----------------------+------------+------+---------------+------------+----------------+----------+---------------+-----------------+-----------------+------+------+\n",
      "| 401125| 401125|    401125|      401125|  401125|                  401125|   401125|     401125|     401125|         401125|       401125|           401125|     401125|            401125|401125|      401125|          401125|      401125|   401125|401125|  401125|      401125|401125|      401125|      401125|         401125|     401125|        401125|           401125|    401125|   401125|401125|   401125|     401125|   401125| 401125|        401125|        401125|         401125|    401125|                 401125|      401125|401125|         401125|      401125|          401125|    401125|         401125|           401125|           401125|401125|401125|\n",
      "+-------+-------+----------+------------+--------+------------------------+---------+-----------+-----------+---------------+-------------+-----------------+-----------+------------------+------+------------+----------------+------------+---------+------+--------+------------+------+------------+------------+---------------+-----------+--------------+-----------------+----------+---------+------+---------+-----------+---------+-------+--------------+--------------+---------------+----------+-----------------------+------------+------+---------------+------------+----------------+----------+---------------+-----------------+-----------------+------+------+\n",
      "\n"
     ]
    }
   ],
   "source": [
    "# show not null value count (no blank)\n",
    "df.select([count(when(col(c).isNotNull() , c)).alias(c) for c in df.columns]).show()"
   ]
  },
  {
   "cell_type": "markdown",
   "id": "b8b08c0b",
   "metadata": {},
   "source": [
    "## Convert the data to dense vector and dummy variable (features and label)"
   ]
  },
  {
   "cell_type": "code",
   "execution_count": 17,
   "id": "8c6aed57",
   "metadata": {},
   "outputs": [],
   "source": [
    "from pyspark.sql import Row\n",
    "from pyspark.ml.linalg import Vectors"
   ]
  },
  {
   "cell_type": "code",
   "execution_count": 18,
   "id": "f9d3e7bc",
   "metadata": {},
   "outputs": [],
   "source": [
    "def get_dummy(df,indexCol,categoricalCols,continuousCols,labelCol,dropLast=False):\n",
    "    '''\n",
    "    Get dummy variables and concat with continuous variables for ml modeling.\n",
    "    :param df: the dataframe\n",
    "    :param categoricalCols: the name list of the categorical data\n",
    "    :param continuousCols:  the name list of the numerical data\n",
    "    :param labelCol:  the name of label column\n",
    "    :param dropLast:  the flag of drop last column\n",
    "    :return: feature matrix\n",
    "    :reference: https://runawayhorse001.github.io/LearningApacheSpark/pyspark.pdf\n",
    "    :author: Wenqiang Feng\n",
    "    :revised by: Jiecheng Song\n",
    "    '''\n",
    "    from pyspark.ml import Pipeline\n",
    "    from pyspark.ml.feature import StringIndexer, OneHotEncoder, VectorAssembler\n",
    "    from pyspark.sql.functions import col\n",
    "    \n",
    "    indexers = [StringIndexer(inputCol=c, outputCol=\"{0}_indexed\".format(c)) for c in categoricalCols]\n",
    "    # default setting: dropLast=True\n",
    "    encoders = [OneHotEncoder(inputCol=indexer.getOutputCol(),outputCol=\"{0}_encoded\".format(indexer.getOutputCol()), dropLast=dropLast) \n",
    "                for indexer in indexers]\n",
    "    \n",
    "    assembler = VectorAssembler(inputCols=[encoder.getOutputCol() for encoder in encoders] + continuousCols, outputCol=\"features\")\n",
    "    \n",
    "    pipeline = Pipeline(stages=indexers + encoders + [assembler])\n",
    "    \n",
    "    model=pipeline.fit(df)\n",
    "    data = model.transform(df)\n",
    "    \n",
    "    if indexCol and labelCol:\n",
    "        # for supervised learning\n",
    "        data = data.withColumn('label',col(labelCol)) \n",
    "        return data.select(indexCol,'features','label')\n",
    "    elif not indexCol and labelCol:\n",
    "        # for supervised learning\n",
    "        data = data.withColumn('label',col(labelCol)) \n",
    "        return data.select('features','label')\n",
    "    elif indexCol and not labelCol:\n",
    "        # for unsupervised learning\n",
    "        return data.select(indexCol,'features')\n",
    "    elif not indexCol and not labelCol: \n",
    "        # for unsupervised learning \n",
    "        return data.select('features')"
   ]
  },
  {
   "cell_type": "code",
   "execution_count": 19,
   "id": "0ca3da86",
   "metadata": {
    "scrolled": true
   },
   "outputs": [],
   "source": [
    "df_dummy = get_dummy(df,'SalesID',df.columns[1:5] + df.columns[6:],['MachineHoursCurrentMeter'],None,dropLast= True)"
   ]
  },
  {
   "cell_type": "code",
   "execution_count": 20,
   "id": "c729f8a8",
   "metadata": {},
   "outputs": [
    {
     "name": "stdout",
     "output_type": "stream",
     "text": [
      "+-------+--------------------+\n",
      "|SalesID|            features|\n",
      "+-------+--------------------+\n",
      "|1139246|(13064,[1142,5220...|\n",
      "|1139248|(13064,[40,5220,5...|\n",
      "|1139249|(13064,[81,5220,5...|\n",
      "|1139251|(13064,[1411,5220...|\n",
      "|1139253|(13064,[53,5220,5...|\n",
      "|1139255|(13064,[0,5220,52...|\n",
      "|1139256|(13064,[214,5220,...|\n",
      "|1139261|(13064,[47,5220,5...|\n",
      "|1139272|(13064,[1872,5220...|\n",
      "|1139275|(13064,[37,5220,5...|\n",
      "|1139278|(13064,[0,5220,52...|\n",
      "|1139282|(13064,[1243,5220...|\n",
      "|1139283|(13064,[68,5220,5...|\n",
      "|1139284|(13064,[14,5220,5...|\n",
      "|1139290|(13064,[60,5220,5...|\n",
      "|1139291|(13064,[3,5220,52...|\n",
      "|1139292|(13064,[572,5220,...|\n",
      "|1139299|(13064,[1473,5220...|\n",
      "|1139301|(13064,[170,5220,...|\n",
      "|1139304|(13064,[72,5220,5...|\n",
      "+-------+--------------------+\n",
      "only showing top 20 rows\n",
      "\n"
     ]
    }
   ],
   "source": [
    "df_dummy.show()"
   ]
  },
  {
   "cell_type": "code",
   "execution_count": 21,
   "id": "d01bb265",
   "metadata": {},
   "outputs": [],
   "source": [
    "train_dummy = train_data.select(['SalesID',col('SalePrice').alias('label')])\n",
    "train_dummy = train_dummy.join(df_dummy, on = 'SalesID', how = 'inner')"
   ]
  },
  {
   "cell_type": "code",
   "execution_count": 22,
   "id": "6b557bbe",
   "metadata": {},
   "outputs": [],
   "source": [
    "from pyspark.ml import Pipeline\n",
    "from pyspark.ml.regression import LinearRegression\n",
    "from pyspark.ml.feature import VectorIndexer\n",
    "from pyspark.ml.evaluation import RegressionEvaluator\n",
    "\n",
    "lr = LinearRegression()\n",
    "pipeline = Pipeline(stages = [lr])\n",
    "model = pipeline.fit(train_dummy)"
   ]
  },
  {
   "cell_type": "code",
   "execution_count": 23,
   "id": "9e17ad87",
   "metadata": {},
   "outputs": [],
   "source": [
    "def modelsummary(model):\n",
    "    import numpy as np\n",
    "    coef = np.append(list(model.coefficients),model.intercept) \n",
    "    Summary=model.summary\n",
    "    print (\"##\",\"Mean squared error: % .6f\" \\\n",
    "           % Summary.meanSquaredError, \", RMSE: % .6f\" \\\n",
    "           % Summary.rootMeanSquaredError )\n",
    "    print (\"##\",\"Multiple R-squared: %f\" % Summary.r2, \",Total iterations: %i\"% Summary.totalIterations)\n",
    "    print (\"##\",\"Adjusted R-squared: %f\" % Summary.r2adj)"
   ]
  },
  {
   "cell_type": "code",
   "execution_count": 24,
   "id": "95fbae46",
   "metadata": {},
   "outputs": [
    {
     "name": "stdout",
     "output_type": "stream",
     "text": [
      "## Mean squared error:  86634417.443971 , RMSE:  9307.761140\n",
      "## Multiple R-squared: 0.828548 ,Total iterations: 100\n",
      "## Adjusted R-squared: 0.820742\n"
     ]
    }
   ],
   "source": [
    "modelsummary(model.stages[-1])"
   ]
  },
  {
   "cell_type": "markdown",
   "id": "cd46c500",
   "metadata": {},
   "source": [
    "## Prediction"
   ]
  },
  {
   "cell_type": "code",
   "execution_count": 25,
   "id": "9f173f56",
   "metadata": {},
   "outputs": [],
   "source": [
    "test_dummy = test_data.select(['SalesID'])\n",
    "test_dummy = test_dummy.join(df_dummy, on = 'SalesID', how = 'inner')"
   ]
  },
  {
   "cell_type": "code",
   "execution_count": 26,
   "id": "df2f7f7a",
   "metadata": {},
   "outputs": [],
   "source": [
    "predictions = model.transform(test_dummy)"
   ]
  },
  {
   "cell_type": "code",
   "execution_count": 27,
   "id": "7d1ed76f",
   "metadata": {},
   "outputs": [
    {
     "name": "stdout",
     "output_type": "stream",
     "text": [
      "+-------+--------------------+------------------+\n",
      "|SalesID|            features|        prediction|\n",
      "+-------+--------------------+------------------+\n",
      "|2241104|(13064,[289,5218,...|30118.352230247372|\n",
      "|2241111|(13064,[289,5218,...| 22312.43482435544|\n",
      "|2241112|(13064,[289,5218,...|31764.693843827685|\n",
      "|2241114|(13064,[289,5218,...|15897.740068360246|\n",
      "|2241118|(13064,[289,5218,...| 25277.99325016539|\n",
      "|2241120|(13064,[289,5218,...|31920.622300369956|\n",
      "|2241121|(13064,[289,5218,...| 22147.81689702234|\n",
      "|2241124|(13064,[289,5218,...| 23804.44169599517|\n",
      "|2241128|(13064,[289,5218,...|29654.152828422317|\n",
      "|2241129|(13064,[289,5218,...| 20388.41163263911|\n",
      "|2241135|(13064,[289,5218,...| 36311.01271867051|\n",
      "|2241136|(13064,[289,5218,...|30869.137141512845|\n",
      "|2241143|(13064,[713,5218,...| 86899.05905747288|\n",
      "|2241144|(13064,[713,5218,...| 88842.34353923445|\n",
      "|2241145|(13064,[713,5218,...|  79661.2283191076|\n",
      "|2241146|(13064,[713,5218,...| 87305.39750075944|\n",
      "|2241149|(13064,[713,5218,...| 85152.19538035501|\n",
      "|2241150|(13064,[713,5218,...| 75011.99924901957|\n",
      "|2241153|(13064,[713,5218,...| 80448.49641661166|\n",
      "|2241156|(13064,[713,5218,...|  78731.5052506041|\n",
      "+-------+--------------------+------------------+\n",
      "only showing top 20 rows\n",
      "\n"
     ]
    }
   ],
   "source": [
    "predictions.show()"
   ]
  },
  {
   "cell_type": "code",
   "execution_count": 30,
   "id": "157a3be8",
   "metadata": {},
   "outputs": [],
   "source": [
    "predictions.select(['SalesID','prediction']).coalesce(1).write.option(\"header\", \"true\").csv('prediction.csv')"
   ]
  }
 ],
 "metadata": {
  "kernelspec": {
   "display_name": "Python 3",
   "language": "python",
   "name": "python3"
  },
  "language_info": {
   "codemirror_mode": {
    "name": "ipython",
    "version": 3
   },
   "file_extension": ".py",
   "mimetype": "text/x-python",
   "name": "python",
   "nbconvert_exporter": "python",
   "pygments_lexer": "ipython3",
   "version": "3.8.11"
  }
 },
 "nbformat": 4,
 "nbformat_minor": 5
}
